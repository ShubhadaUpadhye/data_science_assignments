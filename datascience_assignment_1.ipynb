{
 "cells": [
  {
   "cell_type": "code",
   "execution_count": 1,
   "metadata": {},
   "outputs": [
    {
     "name": "stdout",
     "output_type": "stream",
     "text": [
      "ecneicsatad\n"
     ]
    }
   ],
   "source": [
    "## 1. Write a Python program to reverse a string without using any built-in string reversal functions.\n",
    "\n",
    "string='datascience'\n",
    "string=string[::-1]\n",
    "print(string)"
   ]
  },
  {
   "cell_type": "code",
   "execution_count": 2,
   "metadata": {},
   "outputs": [
    {
     "name": "stdout",
     "output_type": "stream",
     "text": [
      "enter string here: nalan\n"
     ]
    },
    {
     "data": {
      "text/plain": [
       "'Palindrome'"
      ]
     },
     "execution_count": 2,
     "metadata": {},
     "output_type": "execute_result"
    }
   ],
   "source": [
    "## 2.Implement a function to check if a given string is a palindrome.\n",
    "\n",
    "def palindrome(string):\n",
    "    if string[::-1]==string:\n",
    "        return(\"Palindrome\")\n",
    "    else:\n",
    "        return(\"not a Palindrome\")\n",
    "palindrome(input(\"enter string here: \"))"
   ]
  },
  {
   "cell_type": "code",
   "execution_count": null,
   "metadata": {},
   "outputs": [],
   "source": [
    "## 3. Write a program to find the largest element in a given list.\n",
    "\n",
    "my_list=[7,5,1,2,3,3,3,4,0,-1]\n",
    "\n",
    "for i in range(len(my_list)):\n",
    "    for j in range(len(my_list)-1):\n",
    "        if my_list[j]<my_list[j+1]:\n",
    "            pass\n",
    "        else:\n",
    "            my_list[j],my_list[j+1]=my_list[j+1],my_list[j]\n",
    "        \n",
    "print(my_list[-1])"
   ]
  },
  {
   "cell_type": "code",
   "execution_count": null,
   "metadata": {},
   "outputs": [],
   "source": [
    "## 4. Implement a function to count the occurrence of each element in a list.\n",
    "\n",
    "def occurance(*args):\n",
    "    for arg in args:\n",
    "        if type(arg)==list:\n",
    "            for i in set(arg):\n",
    "                print(\"the element is {}\".format(i),\"and the occurance is {}\".format(arg.count(i)))\n",
    "occurance([2,5,1,2,3,3,3,4,7,7,7])               "
   ]
  },
  {
   "cell_type": "code",
   "execution_count": null,
   "metadata": {},
   "outputs": [],
   "source": [
    "## 5.Write a Python program to find the second largest number in a list.\n",
    "my_list=[2,5,1,2,3,4,7]\n",
    "\n",
    "for i in range(len(my_list)):\n",
    "    for j in range(len(my_list)-1):\n",
    "        if my_list[j]<my_list[j+1]:\n",
    "            pass\n",
    "        else:\n",
    "            my_list[j],my_list[j+1]=my_list[j+1],my_list[j]\n",
    "            \n",
    "print(my_list[-2])"
   ]
  },
  {
   "cell_type": "code",
   "execution_count": null,
   "metadata": {},
   "outputs": [],
   "source": [
    "## 6.Implement a function to remove duplicate elements from a list\n",
    "\n",
    "def duplicates():\n",
    "    l=[2,5,1,2,3,3,3,4,7,7,7]\n",
    "    for i in l:\n",
    "        if l.count(i)>1:\n",
    "            for j in range(l.count(i)-1):\n",
    "                l.remove(i)\n",
    "    return(l)\n",
    "duplicates()"
   ]
  },
  {
   "cell_type": "code",
   "execution_count": null,
   "metadata": {},
   "outputs": [],
   "source": [
    "## 7.Write a program to calculate the factorial of a given number\n",
    "\n",
    "def num(n):\n",
    "    f=1\n",
    "    for i in range(n,1,-1):\n",
    "        f=f*i\n",
    "    return f\n",
    "num(int(input(\"enter integer\")))"
   ]
  },
  {
   "cell_type": "code",
   "execution_count": null,
   "metadata": {},
   "outputs": [],
   "source": [
    "## 8.Implement a function to check if a given number is prime.\n",
    "\n",
    "def prime(n):\n",
    "    for i in range(2,n):\n",
    "        if n%i==0:\n",
    "            return (\"number is not prime\")\n",
    "    else:\n",
    "        return (\"number is prime\")\n",
    "result=prime((int(input(\"enter integer\"))))\n",
    "print(result)"
   ]
  },
  {
   "cell_type": "code",
   "execution_count": null,
   "metadata": {},
   "outputs": [],
   "source": [
    "## 9.Write a Python program to sort a list of integers in ascending order\n",
    "\n",
    "my_list=[7,5,1,2,3,3,3,4,0,-1]\n",
    "\n",
    "for i in range(len(my_list)):\n",
    "    for j in range(len(my_list)-1):\n",
    "        if my_list[j]<my_list[j+1]:\n",
    "            pass\n",
    "        else:\n",
    "            my_list[j],my_list[j+1]=my_list[j+1],my_list[j]\n",
    "            \n",
    "print(my_list)\n"
   ]
  },
  {
   "cell_type": "code",
   "execution_count": null,
   "metadata": {},
   "outputs": [],
   "source": [
    "## 10.Implement a function to find the sum of all numbers in a list.\n",
    "my_list=[7,5,1,2,3,3,3,4,0,-1]\n",
    "sum=0\n",
    "for i in my_list:\n",
    "    sum=sum+i\n",
    "print(sum)"
   ]
  },
  {
   "cell_type": "code",
   "execution_count": null,
   "metadata": {},
   "outputs": [],
   "source": [
    "## 11. Write a program to find the common elements between two lists.\n",
    "l1=[7,5,1,2,3,4]\n",
    "l2=[3,4,0,-1]\n",
    "\n",
    "for i in l1:\n",
    "    if i in l2:\n",
    "        print(i)"
   ]
  },
  {
   "cell_type": "code",
   "execution_count": null,
   "metadata": {},
   "outputs": [],
   "source": [
    "## 12. Implement a function to check if a given string is an anagram of another string.\n",
    "#a='coast'\n",
    "#b='coats'\n",
    "\n",
    "def anagram(a,b):\n",
    "    for i in b:\n",
    "        if a.count(i)!=b.count(i):\n",
    "            print('not an anagram')\n",
    "            break\n",
    "    else:\n",
    "        print(\"anagram\")\n",
    "        \n",
    "anagram(input(\"enter value for a\"),input(\"enter value for b\"))"
   ]
  },
  {
   "cell_type": "code",
   "execution_count": null,
   "metadata": {},
   "outputs": [],
   "source": [
    "## 13.Write a Python program to generate all permutations of a given string.\n",
    "\n",
    "from itertools import permutations\n",
    "string='datascience'\n",
    "string=list(string)\n",
    "perms =permutations(string)\n",
    "perm_strings = [''.join(perms) for perm in perms]\n",
    "print(perm_strings)"
   ]
  },
  {
   "cell_type": "code",
   "execution_count": null,
   "metadata": {},
   "outputs": [],
   "source": [
    "## 14. Implement a function to calculate the Fibonacci sequence up to a given number of terms.\n",
    "def fibonacci(n):\n",
    "\n",
    "    a=0\n",
    "    b=1\n",
    "    print(a)\n",
    "    for i in range(n):\n",
    "        c=a+b\n",
    "        a=b\n",
    "        b=c\n",
    "        print(a)\n",
    "fibonacci(int(input(\"enter range\")))"
   ]
  },
  {
   "cell_type": "code",
   "execution_count": null,
   "metadata": {},
   "outputs": [],
   "source": [
    "## 15. Write a program to find the median of a list of numbers.\n",
    "\n",
    "l=[31,32,33,34,35,36,37,38,39,40]\n",
    "l.sort()\n",
    "if len(l)%2!=0:\n",
    "    median=(0+len(l))//2\n",
    "    print(l[median])\n",
    "else:\n",
    "    median=(0+len(l))//2\n",
    "    print((l[median-1]+l[median])/2)"
   ]
  },
  {
   "cell_type": "code",
   "execution_count": null,
   "metadata": {},
   "outputs": [],
   "source": [
    "## 16. Implement a function to check if a given list is sorted in non-decreasing order\n",
    "\n",
    "#my_list=[7,5,1,2,3,4,0,-1]\n",
    "\n",
    "def desc(my_list):\n",
    "    if my_list==my_list.sort():\n",
    "        return (\"list is sorted in non-decreasing order\")\n",
    "    else:\n",
    "        return (\"list is not sorted in non-decreasing order\")\n",
    "desc([7,5,1,2,3,4,0,-1])"
   ]
  },
  {
   "cell_type": "code",
   "execution_count": null,
   "metadata": {},
   "outputs": [],
   "source": [
    "## 17 .Write a Python program to find the intersection of two lists.\n",
    "\n",
    "list1 = [1, 2, 3, 4, 5]\n",
    "list2 = [4, 5, 6, 7, 8]\n",
    "intersection=[]\n",
    "for i in set(list1):\n",
    "    if i in (list2):\n",
    "        intersection.append(i)\n",
    "print(\"intersection of two lists is {}\".format(intersection))"
   ]
  },
  {
   "cell_type": "code",
   "execution_count": null,
   "metadata": {},
   "outputs": [],
   "source": [
    "## 18. Implement a function to find the maximum subarray sum in a given list.\n",
    "\n",
    "def max_subarray_sum(lst):\n",
    "    if not lst:\n",
    "        return 0\n",
    "\n",
    "    max_sum = lst[0]  \n",
    "    current_sum = lst[0]\n",
    "\n",
    "    for num in lst:\n",
    "        current_sum = max(num, current_sum + num)\n",
    "        max_sum = max(max_sum, current_sum)\n",
    "\n",
    "    return max_sum\n",
    "max_subarray_sum([-2, 1, -3, 4, -1, 2, 1, -5, 4])"
   ]
  },
  {
   "cell_type": "code",
   "execution_count": null,
   "metadata": {},
   "outputs": [],
   "source": [
    "## 19.Write a program to remove all vowels from a given string.\n",
    "\n",
    "string=\"apple\"\n",
    "vowels=['a','e','i','o','u']\n",
    "for j in string:\n",
    "    if j in vowels:\n",
    "        string=string.replace(j,\"\")\n",
    "print(string)"
   ]
  },
  {
   "cell_type": "code",
   "execution_count": null,
   "metadata": {},
   "outputs": [],
   "source": [
    "## 20.Implement a function to reverse the order of words in a given sentence.\n",
    "\n",
    "#\"An anagram is a literary device\"\n",
    "def word_reverse(text):\n",
    "    phrase=text.split()\n",
    "    reverse_text=''\n",
    "    for i in phrase:\n",
    "        i=i[::-1]\n",
    "        reverse_text=reverse_text+i+' '\n",
    "    return reverse_text\n",
    "word_reverse(input(\"enter text here:\"))"
   ]
  },
  {
   "cell_type": "code",
   "execution_count": 5,
   "metadata": {},
   "outputs": [
    {
     "name": "stdout",
     "output_type": "stream",
     "text": [
      "anagram\n"
     ]
    }
   ],
   "source": [
    "## 21. Write a Python program to check if two strings are anagrams of each other\n",
    "a='was'\n",
    "b='saw'\n",
    "\n",
    "for i in b:\n",
    "    if a.count(i)!=b.count(i):\n",
    "        print('not an anagram')\n",
    "        break\n",
    "else:\n",
    "    print(\"anagram\")\n"
   ]
  },
  {
   "cell_type": "code",
   "execution_count": null,
   "metadata": {},
   "outputs": [],
   "source": [
    "## 22. Implement a function to find the first non-repeating character in a string.\n",
    "def non_occur(text):\n",
    "    for i in text:\n",
    "        if text.count(i)==1:\n",
    "            return(i)\n",
    "            break\n",
    "    else:\n",
    "        return(\"no non-repeating characters in string\")\n",
    "non_occur(input(\"enter text here:\"))"
   ]
  },
  {
   "cell_type": "code",
   "execution_count": null,
   "metadata": {},
   "outputs": [],
   "source": [
    "## 23. Write a program to find the prime factors of a given number.\n",
    "\n",
    "n=100\n",
    "\n",
    "for i in range(1,n):\n",
    "    if n%i==0:\n",
    "        for j in range(2,i):\n",
    "            if i%j==0:\n",
    "                break\n",
    "        else:\n",
    "            print(i)"
   ]
  },
  {
   "cell_type": "code",
   "execution_count": null,
   "metadata": {},
   "outputs": [],
   "source": [
    "## 24 Implement a function to check if a given number is a power of two.\n",
    "\n",
    "def power_of_2(n):\n",
    "    m=1\n",
    "    for i in range(1,n,2):\n",
    "        m=m*2\n",
    "        if m==n:\n",
    "            print(True)\n",
    "            break\n",
    "    else:\n",
    "        print(False)\n",
    "power_of_2(int(input('enter number')))"
   ]
  },
  {
   "cell_type": "code",
   "execution_count": null,
   "metadata": {},
   "outputs": [],
   "source": [
    "## 25 Write a Python program to merge two sorted lists into a single sorted list.\n",
    "\n",
    "list1 = [1, 2, 3, 4, 5]\n",
    "list2 = [4, 5, 6, 7, 8]\n",
    "\n",
    "list_new=list1+list2\n",
    "list_new.sort()\n",
    "print(list_new)"
   ]
  },
  {
   "cell_type": "code",
   "execution_count": null,
   "metadata": {},
   "outputs": [],
   "source": [
    "## 26. Implement a function to find the mode of a list of numbers.\n",
    "\n",
    "import statistics\n",
    "def mode(*args):\n",
    "    for arg in args:\n",
    "        if type(arg)==list:\n",
    "            mode_list=statistics.mode(arg)\n",
    "            return mode_list\n",
    "mode([1, 2, 3, 4, 4, 5, 5,5, 6, 7, 8])"
   ]
  },
  {
   "cell_type": "code",
   "execution_count": null,
   "metadata": {},
   "outputs": [],
   "source": [
    "## 27. Write a program to find the greatest common divisor (GCD) of two numbers## \n",
    "high=72\n",
    "low=49\n",
    "gcd=[]\n",
    "\n",
    "for i in range(1,high):\n",
    "    if high%i==0 and low%i==0:\n",
    "        gcd.append(i) \n",
    "print(max(d1))"
   ]
  },
  {
   "cell_type": "code",
   "execution_count": null,
   "metadata": {},
   "outputs": [],
   "source": [
    "## 28. Implement a function to calculate the square root of a given number.\n",
    "\n",
    "def square_root(n):\n",
    "    result=n**0.5\n",
    "    return int(result)\n",
    "square_root(int(input(\"enter integer\")))"
   ]
  },
  {
   "cell_type": "code",
   "execution_count": null,
   "metadata": {},
   "outputs": [],
   "source": [
    "## 29. Write a Python program to check if a given string is a valid palindrome ignoring non-alphanumeric characters\n",
    "\n",
    "string_1 = 'r_@#a_&d$a%r'\n",
    "\n",
    "for i in string_1:\n",
    "    if i.isalpha() == True or i.isnumeric() == True:\n",
    "        pass\n",
    "    else:\n",
    "        string_1 = string_1.replace(i, \"\")\n",
    "if string_1==string_1[::-1]:\n",
    "    print(\"Palindrome\")\n",
    "else:\n",
    "    print(\"not a palindrome\")"
   ]
  },
  {
   "cell_type": "code",
   "execution_count": null,
   "metadata": {},
   "outputs": [],
   "source": [
    "## 30 Implement a function to find the minimum element in a rotated sorted list.\n",
    "\n",
    "def rotated_sorted_list(nums):\n",
    "    left, right = 0, len(nums) - 1\n",
    "    \n",
    "    while left < right:\n",
    "        mid = left + (right - left) // 2\n",
    "        \n",
    "        if nums[mid] > nums[right]:\n",
    "            left = mid + 1\n",
    "        elif nums[mid] < nums[right]:\n",
    "            right = mid\n",
    "        else:\n",
    "            right -= 1\n",
    "    \n",
    "    return nums[left]\n",
    "rotated_sorted_list([4, 5, 6, 7,-1, 0, 1, 2])           "
   ]
  },
  {
   "cell_type": "code",
   "execution_count": null,
   "metadata": {},
   "outputs": [],
   "source": [
    "## 31. Write a program to find the sum of all even numbers in a list.\n",
    "\n",
    "my_list=[4, 5, 6, 7,-1, 0, 1, 2]\n",
    "sum=0\n",
    "for i in my_list:\n",
    "    if i>0 and i%2==0:\n",
    "        sum=sum+i\n",
    "print(sum)        "
   ]
  },
  {
   "cell_type": "code",
   "execution_count": null,
   "metadata": {},
   "outputs": [],
   "source": [
    "## 32. Implement a function to calculate the power of a number using recursion.\n",
    "\n",
    "def power(base, exponent):\n",
    "    if exponent == 0:\n",
    "        return 1\n",
    "    elif exponent < 0:\n",
    "        return 1 / power(base, -exponent)\n",
    "    elif exponent % 2 == 0:\n",
    "        temp = power(base, exponent // 2)\n",
    "        return temp * temp\n",
    "    else:\n",
    "        return base * power(base, exponent - 1)\n",
    "power(10,2)"
   ]
  },
  {
   "cell_type": "code",
   "execution_count": null,
   "metadata": {},
   "outputs": [],
   "source": [
    "## 33. Write a Python program to remove duplicates from a list while preserving the order.\n",
    "\n",
    "def duplicates(my_list):\n",
    "    for i in my_list:\n",
    "        if my_list.count(i)>1:\n",
    "            for j in range(my_list.count(i)-1):\n",
    "                my_list.remove(i)\n",
    "    return(my_list)\n",
    "duplicates([2,5,1,2,3,3,3,4,7,7,7])"
   ]
  },
  {
   "cell_type": "code",
   "execution_count": null,
   "metadata": {},
   "outputs": [],
   "source": [
    "## 34. Implement a function to find the longest common prefix among a list of strings.\n",
    "\n",
    "def longest_common_prefix(strs):\n",
    "    if not strs:\n",
    "        return \"\"\n",
    "    \n",
    "    prefix = strs[0]\n",
    "    for i in range(1, len(strs)):\n",
    "        while not strs[i].startswith(prefix):\n",
    "            prefix = prefix[:-1]\n",
    "            if not prefix:\n",
    "                return \"\"\n",
    "    \n",
    "    return prefix\n",
    "longest_common_prefix([\"flower\", \"flow\", \"flight\",\"fly\"])"
   ]
  },
  {
   "cell_type": "code",
   "execution_count": 7,
   "metadata": {},
   "outputs": [
    {
     "name": "stdout",
     "output_type": "stream",
     "text": [
      "enter integer134\n"
     ]
    },
    {
     "data": {
      "text/plain": [
       "'not a perfect square'"
      ]
     },
     "execution_count": 7,
     "metadata": {},
     "output_type": "execute_result"
    }
   ],
   "source": [
    "## 35. Write a program to check if a given number is a perfect square\n",
    "\n",
    "def perfect_square(n):\n",
    "    result=n**0.5\n",
    "    if int(result)-result==0:\n",
    "        return(\"perfect square\")\n",
    "    else:\n",
    "        return(\"not a perfect square\")\n",
    "perfect_square(int(input(\"enter integer\")))"
   ]
  },
  {
   "cell_type": "code",
   "execution_count": null,
   "metadata": {},
   "outputs": [],
   "source": [
    "## 36.Implement a function to calculate the product of all elements in a list\n",
    "\n",
    "def product_list(my_list):\n",
    "    product=1\n",
    "    for i in my_list:\n",
    "        if i!=0:\n",
    "            product=product*i\n",
    "    return product\n",
    "product_list([4, 5, 6, 7,-1,0, 1, 2])"
   ]
  },
  {
   "cell_type": "code",
   "execution_count": null,
   "metadata": {},
   "outputs": [],
   "source": [
    "## 37. Write a Python program to reverse the order of words in a sentence while preserving the word order.\n",
    "\n",
    "def word_reverse(text):\n",
    "    phrase=text.split()\n",
    "    reverse_text=''\n",
    "    for i in phrase:\n",
    "        i=i[::-1]\n",
    "        reverse_text=reverse_text+i+' '\n",
    "    return reverse_text\n",
    "word_reverse(input(\"enter text here:\"))"
   ]
  },
  {
   "cell_type": "code",
   "execution_count": null,
   "metadata": {},
   "outputs": [],
   "source": [
    "## 38. Implement a function to find the missing number in a given list of consecutive numbers.\n",
    "\n",
    "def missing_num(num_list):\n",
    "    num_list.sort()\n",
    "    missing_list=[]\n",
    "    for i in range(len(num_list)-1):\n",
    "        if num_list[i+1]!=num_list[i]+1:\n",
    "            missing_list.append(num_list[i]+1)\n",
    "    return missing_list\n",
    "    if len(missing_list)==0:\n",
    "        return (\"no missing number\")\n",
    "missing_num([21,24,23,26,25,28])"
   ]
  },
  {
   "cell_type": "code",
   "execution_count": null,
   "metadata": {},
   "outputs": [],
   "source": [
    "## 39. Write a program to find the sum of digits of a given number.\n",
    "\n",
    "num=6837298\n",
    "num=str(num)\n",
    "sum=0\n",
    "for i in num:\n",
    "    sum=sum+int(i)\n",
    "print(sum)"
   ]
  },
  {
   "cell_type": "code",
   "execution_count": null,
   "metadata": {},
   "outputs": [],
   "source": [
    "## 40. Implement a function to check if a given string is a valid palindrome considering case sensitivity.\n",
    "\n",
    "def palindrome(string):\n",
    "    string=string.lower()\n",
    "    if string[::-1]==string:\n",
    "        return(\"Palindrome\")\n",
    "    else:\n",
    "        return(\"not a Palindrome\")\n",
    "palindrome(input(\"enter string here: \"))"
   ]
  },
  {
   "cell_type": "code",
   "execution_count": null,
   "metadata": {},
   "outputs": [],
   "source": [
    "## 41. Write a Python program to find the smallest missing positive integer in a list.\n",
    "def small_missing_positive(my_list):\n",
    "    my_list.sort()\n",
    "    for i in range(len(my_list)-1):\n",
    "        if my_list[i+1]!=my_list[i]+1 and my_list[i+1]>0:\n",
    "            return(my_list[i]+1)\n",
    "small_missing_positive([-3,-1,0,2,3,4,6,8])"
   ]
  },
  {
   "cell_type": "code",
   "execution_count": null,
   "metadata": {},
   "outputs": [],
   "source": [
    "## 42. Implement a function to find the longest palindrome substring in a given string.\n",
    "\n",
    "def long_palindrome_substring(s):\n",
    "    if not s:\n",
    "        return \"\"\n",
    "\n",
    "    n = len(s)\n",
    "    start, end = 0, 0\n",
    "\n",
    "    def expand_around_center(left, right):\n",
    "        while left >= 0 and right < n and s[left] == s[right]:\n",
    "            left -= 1\n",
    "            right += 1\n",
    "        return left + 1, right - 1\n",
    "\n",
    "    for i in range(n):\n",
    "        left1, right1 = expand_around_center(i, i)  \n",
    "        left2, right2 = expand_around_center(i, i + 1) \n",
    "        if right1 - left1 > end - start:\n",
    "            start, end = left1, right1\n",
    "        if right2 - left2 > end - start:\n",
    "            start, end = left2, right2\n",
    "\n",
    "    return s[start:end + 1]\n",
    "\n",
    "long_palindrome_substring('babad')"
   ]
  },
  {
   "cell_type": "code",
   "execution_count": null,
   "metadata": {},
   "outputs": [],
   "source": [
    "## 43.Write a program to find the number of occurrences of a given element in a list.\n",
    "\n",
    "my_list=['apple','banana','apple','grapes']\n",
    "element='apple'\n",
    "for i in set(my_list):\n",
    "    if i==element:\n",
    "        print(element,my_list.count(element))"
   ]
  },
  {
   "cell_type": "code",
   "execution_count": null,
   "metadata": {
    "scrolled": true
   },
   "outputs": [],
   "source": [
    "## 44. Implement a function to check if a given number is a perfect number.\n",
    "\n",
    "def perfect_num(n):\n",
    "    divisor_list=[]\n",
    "    for i in range(1,n):\n",
    "        if n%i==0:\n",
    "            divisor_list.append(i)\n",
    "    sum=0\n",
    "    for i in divisor_list:\n",
    "        sum=sum+i\n",
    "    if n==sum:\n",
    "        return(\"perfect number\")\n",
    "    else:\n",
    "        return(\"not a perfect number\")\n",
    "perfect_num(10)"
   ]
  },
  {
   "cell_type": "code",
   "execution_count": null,
   "metadata": {},
   "outputs": [],
   "source": [
    "## 45. Write a Python program to remove all duplicates from a string.\n",
    "string=\"datascience\"\n",
    "\n",
    "for i in string:\n",
    "    if string.count(i)>1:\n",
    "        string=string.replace(i,\"\")\n",
    "print(string)"
   ]
  },
  {
   "cell_type": "code",
   "execution_count": null,
   "metadata": {},
   "outputs": [],
   "source": [
    "## 46. Implement a function to find the first missing positive\n",
    "\n",
    "def missing_positive(my_list):\n",
    "    my_list.sort()\n",
    "    for i in range(len(my_list)-1):\n",
    "        if my_list[i+1]!=my_list[i]+1 and my_list[i+1]>0:\n",
    "            return(my_list[i]+1)\n",
    "missing_positive([-3,-1,0,1,2,3,4,6,8])"
   ]
  }
 ],
 "metadata": {
  "kernelspec": {
   "display_name": "Python 3",
   "language": "python",
   "name": "python3"
  },
  "language_info": {
   "codemirror_mode": {
    "name": "ipython",
    "version": 3
   },
   "file_extension": ".py",
   "mimetype": "text/x-python",
   "name": "python",
   "nbconvert_exporter": "python",
   "pygments_lexer": "ipython3",
   "version": "3.8.5"
  }
 },
 "nbformat": 4,
 "nbformat_minor": 4
}
